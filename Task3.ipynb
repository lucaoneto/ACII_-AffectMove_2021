{
  "nbformat": 4,
  "nbformat_minor": 0,
  "metadata": {
    "kernelspec": {
      "display_name": "Python 3",
      "language": "python",
      "name": "python3"
    },
    "language_info": {
      "codemirror_mode": {
        "name": "ipython",
        "version": 3
      },
      "file_extension": ".py",
      "mimetype": "text/x-python",
      "name": "python",
      "nbconvert_exporter": "python",
      "pygments_lexer": "ipython3",
      "version": "3.6.10"
    },
    "colab": {
      "name": "Task3.ipynb",
      "provenance": []
    }
  },
  "cells": [
    {
      "cell_type": "code",
      "metadata": {
        "id": "fCCSbJ4KjyMY"
      },
      "source": [
        "import io\n",
        "import numpy as np\n",
        "import pandas as pd\n",
        "import matplotlib.pyplot as plt\n",
        "\n",
        "from sklearn import preprocessing\n",
        "from scipy.interpolate import CubicSpline\n",
        "import ast, sys\n",
        "from scipy.stats import iqr\n",
        "from sklearn.metrics import accuracy_score\n",
        "import glob\n",
        "from scipy import signal"
      ],
      "execution_count": null,
      "outputs": []
    },
    {
      "cell_type": "code",
      "metadata": {
        "id": "GZDI2kgHjyMg"
      },
      "source": [
        "labels = pd.read_csv('challenge/task3/label.CSV', sep=';', decimal='.', header=0)"
      ],
      "execution_count": null,
      "outputs": []
    },
    {
      "cell_type": "code",
      "metadata": {
        "scrolled": true,
        "id": "LtJfd9QHjyMg"
      },
      "source": [
        "labels"
      ],
      "execution_count": null,
      "outputs": []
    },
    {
      "cell_type": "code",
      "metadata": {
        "id": "EBx4EHC9jyMh"
      },
      "source": [
        "def mergeOnDist(df1,df2):\n",
        "    ret = np.zeros((len(df1),df1.shape[1]+df2.shape[1]-1))\n",
        "    \n",
        "    for i in range(len(df1)):\n",
        "        dist = np.Inf\n",
        "        for j in range(len(df2)):\n",
        "            current_dist = np.abs(df1.iloc[i,0]-df2.iloc[j,0])\n",
        "            if current_dist < dist:\n",
        "                dist = current_dist\n",
        "            else:\n",
        "                break\n",
        "        comodo = np.concatenate((df1.iloc[i,:].values,df2.iloc[j,1:]))\n",
        "        ret[i] = comodo\n",
        "    \n",
        "    return pd.DataFrame(ret)"
      ],
      "execution_count": null,
      "outputs": []
    },
    {
      "cell_type": "code",
      "metadata": {
        "id": "8DXdswRMjyMi"
      },
      "source": [
        "def mergeOnKey(df1,df2):\n",
        "    #df1 = df1.iloc[:,:-3]\n",
        "    d1 = df1.rename(columns={0: 'merge_att'}).copy()\n",
        "    d2 = df2.rename(columns={0: 'merge_att'}).copy()\n",
        "    return pd.merge_asof(d1, d2, on='merge_att', direction=\"nearest\")"
      ],
      "execution_count": null,
      "outputs": []
    },
    {
      "cell_type": "code",
      "metadata": {
        "id": "7-gHhIJ3jyMi"
      },
      "source": [
        "def readData(labels):\n",
        "    data_path = 'challenge/task3/DANCE/'\n",
        "    names = labels.Name.values\n",
        "    comodo_df = []\n",
        "    ret = []\n",
        "    exercise = 0\n",
        "    for number, file in enumerate(glob.glob(data_path+ '*txt')): \n",
        "        old_query = file.split('_')[1] + '_segm0' + str(int(file.split('-')[-1].split('_')[0]))\n",
        "        break\n",
        "    \n",
        "    for number, file in enumerate(glob.glob(data_path+ '*txt')):            \n",
        "        query = file.split('_')[1] + '_segm0' + str(int(file.split('-')[-1].split('_')[0]))\n",
        "        sys.stdout.write(\"\\r computed {%d/ %d} \" % (number+1, 1191) )\n",
        "        sys.stdout.flush()\n",
        "        df = pd.read_csv(file, sep=' ', decimal='.',header=None,skiprows=3)\n",
        "        \n",
        "        if query == old_query: \n",
        "            comodo_df.append(df)\n",
        "        else: \n",
        "            data = comodo_df[0].dropna(axis=0)\n",
        "            for idx_cdf in range(len(comodo_df)-1):\n",
        "                data = mergeOnKey(data, comodo_df[idx_cdf+1].dropna(axis=0))\n",
        "            \n",
        "            current_data = np.zeros((len(data),52)) \n",
        "            current_data[:,:data.shape[1]-1] = data.values[:,1:]\n",
        "            for idxn, name in enumerate(names):\n",
        "                if old_query in name:\n",
        "                    lab = labels.Quality.iloc[idxn]\n",
        "                    person = labels.Person.iloc[idxn]\n",
        "                    break\n",
        "                \n",
        "            meta = np.array([lab, person,exercise]) \n",
        "            meta = np.tile(meta, (len(data), 1))\n",
        "            all_data = np.concatenate((meta,current_data[:,1:]), axis=1)\n",
        "            if len(ret) == 0:\n",
        "                ret = all_data\n",
        "            else:\n",
        "                ret = np.concatenate((ret, all_data), axis=0)\n",
        "            comodo_df = []\n",
        "            comodo_df.append(df)\n",
        "            old_query = query\n",
        "            exercise += 1\n",
        "                \n",
        "    print()\n",
        "    return ret"
      ],
      "execution_count": null,
      "outputs": []
    },
    {
      "cell_type": "code",
      "metadata": {
        "id": "uKIhdUYljyMj"
      },
      "source": [
        "%%time\n",
        "X = readData(labels)"
      ],
      "execution_count": null,
      "outputs": []
    },
    {
      "cell_type": "code",
      "metadata": {
        "id": "0BGnff4njyMj"
      },
      "source": [
        "X = pd.DataFrame(X)"
      ],
      "execution_count": null,
      "outputs": []
    },
    {
      "cell_type": "code",
      "metadata": {
        "id": "yEiA-r02jyMj",
        "outputId": "b557a2f7-225b-4c2e-85a5-f3e74e012993"
      },
      "source": [
        "X"
      ],
      "execution_count": null,
      "outputs": [
        {
          "output_type": "execute_result",
          "data": {
            "text/html": [
              "<div>\n",
              "<style scoped>\n",
              "    .dataframe tbody tr th:only-of-type {\n",
              "        vertical-align: middle;\n",
              "    }\n",
              "\n",
              "    .dataframe tbody tr th {\n",
              "        vertical-align: top;\n",
              "    }\n",
              "\n",
              "    .dataframe thead th {\n",
              "        text-align: right;\n",
              "    }\n",
              "</style>\n",
              "<table border=\"1\" class=\"dataframe\">\n",
              "  <thead>\n",
              "    <tr style=\"text-align: right;\">\n",
              "      <th></th>\n",
              "      <th>0</th>\n",
              "      <th>1</th>\n",
              "      <th>2</th>\n",
              "      <th>3</th>\n",
              "      <th>4</th>\n",
              "      <th>5</th>\n",
              "      <th>6</th>\n",
              "      <th>7</th>\n",
              "      <th>8</th>\n",
              "      <th>9</th>\n",
              "      <th>...</th>\n",
              "      <th>44</th>\n",
              "      <th>45</th>\n",
              "      <th>46</th>\n",
              "      <th>47</th>\n",
              "      <th>48</th>\n",
              "      <th>49</th>\n",
              "      <th>50</th>\n",
              "      <th>51</th>\n",
              "      <th>52</th>\n",
              "      <th>53</th>\n",
              "    </tr>\n",
              "  </thead>\n",
              "  <tbody>\n",
              "    <tr>\n",
              "      <th>0</th>\n",
              "      <td>l</td>\n",
              "      <td>0</td>\n",
              "      <td>0</td>\n",
              "      <td>0.6640629768371582</td>\n",
              "      <td>-0.18505899608135226</td>\n",
              "      <td>0.0</td>\n",
              "      <td>0.0</td>\n",
              "      <td>0.0</td>\n",
              "      <td>152.86585998535156</td>\n",
              "      <td>-43.84146499633789</td>\n",
              "      <td>...</td>\n",
              "      <td>-1.0</td>\n",
              "      <td>1.0</td>\n",
              "      <td>1.0</td>\n",
              "      <td>3.0</td>\n",
              "      <td>2.0</td>\n",
              "      <td>8.0</td>\n",
              "      <td>30.0</td>\n",
              "      <td>83.0</td>\n",
              "      <td>14.0</td>\n",
              "      <td>5.0</td>\n",
              "    </tr>\n",
              "    <tr>\n",
              "      <th>1</th>\n",
              "      <td>l</td>\n",
              "      <td>0</td>\n",
              "      <td>0</td>\n",
              "      <td>0.5893549919128418</td>\n",
              "      <td>-0.31835898756980896</td>\n",
              "      <td>0.0</td>\n",
              "      <td>0.0</td>\n",
              "      <td>0.0</td>\n",
              "      <td>93.10975646972656</td>\n",
              "      <td>-31.646341323852536</td>\n",
              "      <td>...</td>\n",
              "      <td>-43.0</td>\n",
              "      <td>-5.0</td>\n",
              "      <td>4.0</td>\n",
              "      <td>4.0</td>\n",
              "      <td>-1.0</td>\n",
              "      <td>-12.0</td>\n",
              "      <td>-1.0</td>\n",
              "      <td>-17.0</td>\n",
              "      <td>-1.0</td>\n",
              "      <td>1.0</td>\n",
              "    </tr>\n",
              "    <tr>\n",
              "      <th>2</th>\n",
              "      <td>l</td>\n",
              "      <td>0</td>\n",
              "      <td>0</td>\n",
              "      <td>0.7172849774360657</td>\n",
              "      <td>-0.151855006814003</td>\n",
              "      <td>0.0</td>\n",
              "      <td>0.0</td>\n",
              "      <td>0.0</td>\n",
              "      <td>27.92683029174805</td>\n",
              "      <td>-24.207317352294922</td>\n",
              "      <td>...</td>\n",
              "      <td>-1.0</td>\n",
              "      <td>-1.0</td>\n",
              "      <td>-6.0</td>\n",
              "      <td>-14.0</td>\n",
              "      <td>-7.0</td>\n",
              "      <td>12.0</td>\n",
              "      <td>0.0</td>\n",
              "      <td>-12.0</td>\n",
              "      <td>-1.0</td>\n",
              "      <td>-3.0</td>\n",
              "    </tr>\n",
              "    <tr>\n",
              "      <th>3</th>\n",
              "      <td>l</td>\n",
              "      <td>0</td>\n",
              "      <td>0</td>\n",
              "      <td>0.5473629832267761</td>\n",
              "      <td>-0.1289059966802597</td>\n",
              "      <td>0.0</td>\n",
              "      <td>0.0</td>\n",
              "      <td>0.0</td>\n",
              "      <td>11.036585807800293</td>\n",
              "      <td>-19.207317352294922</td>\n",
              "      <td>...</td>\n",
              "      <td>-1.0</td>\n",
              "      <td>-1.0</td>\n",
              "      <td>-6.0</td>\n",
              "      <td>-14.0</td>\n",
              "      <td>-7.0</td>\n",
              "      <td>12.0</td>\n",
              "      <td>0.0</td>\n",
              "      <td>-12.0</td>\n",
              "      <td>-1.0</td>\n",
              "      <td>-3.0</td>\n",
              "    </tr>\n",
              "    <tr>\n",
              "      <th>4</th>\n",
              "      <td>l</td>\n",
              "      <td>0</td>\n",
              "      <td>0</td>\n",
              "      <td>0.6445310115814209</td>\n",
              "      <td>-0.16210900247097015</td>\n",
              "      <td>0.0</td>\n",
              "      <td>0.0</td>\n",
              "      <td>0.0</td>\n",
              "      <td>23.170732498168945</td>\n",
              "      <td>-10.670731544494627</td>\n",
              "      <td>...</td>\n",
              "      <td>6.0</td>\n",
              "      <td>-1.0</td>\n",
              "      <td>-1.0</td>\n",
              "      <td>-7.0</td>\n",
              "      <td>-1.0</td>\n",
              "      <td>6.0</td>\n",
              "      <td>5.0</td>\n",
              "      <td>-4.0</td>\n",
              "      <td>13.0</td>\n",
              "      <td>29.0</td>\n",
              "    </tr>\n",
              "    <tr>\n",
              "      <th>...</th>\n",
              "      <td>...</td>\n",
              "      <td>...</td>\n",
              "      <td>...</td>\n",
              "      <td>...</td>\n",
              "      <td>...</td>\n",
              "      <td>...</td>\n",
              "      <td>...</td>\n",
              "      <td>...</td>\n",
              "      <td>...</td>\n",
              "      <td>...</td>\n",
              "      <td>...</td>\n",
              "      <td>...</td>\n",
              "      <td>...</td>\n",
              "      <td>...</td>\n",
              "      <td>...</td>\n",
              "      <td>...</td>\n",
              "      <td>...</td>\n",
              "      <td>...</td>\n",
              "      <td>...</td>\n",
              "      <td>...</td>\n",
              "      <td>...</td>\n",
              "    </tr>\n",
              "    <tr>\n",
              "      <th>76973</th>\n",
              "      <td>l</td>\n",
              "      <td>12</td>\n",
              "      <td>150</td>\n",
              "      <td>0.2993159890174866</td>\n",
              "      <td>-0.03222699835896492</td>\n",
              "      <td>0.0</td>\n",
              "      <td>0.0</td>\n",
              "      <td>0.0</td>\n",
              "      <td>-88.65853881835938</td>\n",
              "      <td>82.5</td>\n",
              "      <td>...</td>\n",
              "      <td>2.0</td>\n",
              "      <td>2.0</td>\n",
              "      <td>-1.0</td>\n",
              "      <td>0.0</td>\n",
              "      <td>-24.0</td>\n",
              "      <td>-9.0</td>\n",
              "      <td>-3.0</td>\n",
              "      <td>-6.0</td>\n",
              "      <td>-3.0</td>\n",
              "      <td>-1.0</td>\n",
              "    </tr>\n",
              "    <tr>\n",
              "      <th>76974</th>\n",
              "      <td>l</td>\n",
              "      <td>12</td>\n",
              "      <td>150</td>\n",
              "      <td>0.3198240101337433</td>\n",
              "      <td>-0.14111299812793732</td>\n",
              "      <td>0.0</td>\n",
              "      <td>0.0</td>\n",
              "      <td>0.0</td>\n",
              "      <td>-66.5243911743164</td>\n",
              "      <td>84.20732116699219</td>\n",
              "      <td>...</td>\n",
              "      <td>-1.0</td>\n",
              "      <td>0.0</td>\n",
              "      <td>-1.0</td>\n",
              "      <td>0.0</td>\n",
              "      <td>-24.0</td>\n",
              "      <td>-9.0</td>\n",
              "      <td>-3.0</td>\n",
              "      <td>-6.0</td>\n",
              "      <td>-3.0</td>\n",
              "      <td>-1.0</td>\n",
              "    </tr>\n",
              "    <tr>\n",
              "      <th>76975</th>\n",
              "      <td>l</td>\n",
              "      <td>12</td>\n",
              "      <td>150</td>\n",
              "      <td>0.4677729904651642</td>\n",
              "      <td>-0.171875</td>\n",
              "      <td>0.0</td>\n",
              "      <td>0.0</td>\n",
              "      <td>0.0</td>\n",
              "      <td>-63.84146499633789</td>\n",
              "      <td>89.69512176513672</td>\n",
              "      <td>...</td>\n",
              "      <td>0.0</td>\n",
              "      <td>-1.0</td>\n",
              "      <td>0.0</td>\n",
              "      <td>0.0</td>\n",
              "      <td>10.0</td>\n",
              "      <td>-5.0</td>\n",
              "      <td>1.0</td>\n",
              "      <td>-3.0</td>\n",
              "      <td>1.0</td>\n",
              "      <td>2.0</td>\n",
              "    </tr>\n",
              "    <tr>\n",
              "      <th>76976</th>\n",
              "      <td>l</td>\n",
              "      <td>12</td>\n",
              "      <td>150</td>\n",
              "      <td>0.5151370167732239</td>\n",
              "      <td>-0.11816400289535522</td>\n",
              "      <td>0.0</td>\n",
              "      <td>0.0</td>\n",
              "      <td>0.0</td>\n",
              "      <td>-92.19512176513673</td>\n",
              "      <td>92.13414764404298</td>\n",
              "      <td>...</td>\n",
              "      <td>0.0</td>\n",
              "      <td>-1.0</td>\n",
              "      <td>-4.0</td>\n",
              "      <td>-5.0</td>\n",
              "      <td>3.0</td>\n",
              "      <td>-36.0</td>\n",
              "      <td>-7.0</td>\n",
              "      <td>-2.0</td>\n",
              "      <td>1.0</td>\n",
              "      <td>-2.0</td>\n",
              "    </tr>\n",
              "    <tr>\n",
              "      <th>76977</th>\n",
              "      <td>l</td>\n",
              "      <td>12</td>\n",
              "      <td>150</td>\n",
              "      <td>0.4067380130290985</td>\n",
              "      <td>-0.1137700006365776</td>\n",
              "      <td>0.0</td>\n",
              "      <td>0.0</td>\n",
              "      <td>0.0</td>\n",
              "      <td>-109.57317352294922</td>\n",
              "      <td>91.03659057617188</td>\n",
              "      <td>...</td>\n",
              "      <td>0.0</td>\n",
              "      <td>-1.0</td>\n",
              "      <td>0.0</td>\n",
              "      <td>0.0</td>\n",
              "      <td>3.0</td>\n",
              "      <td>7.0</td>\n",
              "      <td>0.0</td>\n",
              "      <td>-1.0</td>\n",
              "      <td>3.0</td>\n",
              "      <td>1.0</td>\n",
              "    </tr>\n",
              "  </tbody>\n",
              "</table>\n",
              "<p>76978 rows × 54 columns</p>\n",
              "</div>"
            ],
            "text/plain": [
              "      0   1    2                   3                     4    5    6    7   \\\n",
              "0      l   0    0  0.6640629768371582  -0.18505899608135226  0.0  0.0  0.0   \n",
              "1      l   0    0  0.5893549919128418  -0.31835898756980896  0.0  0.0  0.0   \n",
              "2      l   0    0  0.7172849774360657    -0.151855006814003  0.0  0.0  0.0   \n",
              "3      l   0    0  0.5473629832267761   -0.1289059966802597  0.0  0.0  0.0   \n",
              "4      l   0    0  0.6445310115814209  -0.16210900247097015  0.0  0.0  0.0   \n",
              "...   ..  ..  ...                 ...                   ...  ...  ...  ...   \n",
              "76973  l  12  150  0.2993159890174866  -0.03222699835896492  0.0  0.0  0.0   \n",
              "76974  l  12  150  0.3198240101337433  -0.14111299812793732  0.0  0.0  0.0   \n",
              "76975  l  12  150  0.4677729904651642             -0.171875  0.0  0.0  0.0   \n",
              "76976  l  12  150  0.5151370167732239  -0.11816400289535522  0.0  0.0  0.0   \n",
              "76977  l  12  150  0.4067380130290985   -0.1137700006365776  0.0  0.0  0.0   \n",
              "\n",
              "                        8                    9   ...     44    45    46  \\\n",
              "0       152.86585998535156   -43.84146499633789  ...   -1.0   1.0   1.0   \n",
              "1        93.10975646972656  -31.646341323852536  ...  -43.0  -5.0   4.0   \n",
              "2        27.92683029174805  -24.207317352294922  ...   -1.0  -1.0  -6.0   \n",
              "3       11.036585807800293  -19.207317352294922  ...   -1.0  -1.0  -6.0   \n",
              "4       23.170732498168945  -10.670731544494627  ...    6.0  -1.0  -1.0   \n",
              "...                    ...                  ...  ...    ...   ...   ...   \n",
              "76973   -88.65853881835938                 82.5  ...    2.0   2.0  -1.0   \n",
              "76974    -66.5243911743164    84.20732116699219  ...   -1.0   0.0  -1.0   \n",
              "76975   -63.84146499633789    89.69512176513672  ...    0.0  -1.0   0.0   \n",
              "76976   -92.19512176513673    92.13414764404298  ...    0.0  -1.0  -4.0   \n",
              "76977  -109.57317352294922    91.03659057617188  ...    0.0  -1.0   0.0   \n",
              "\n",
              "          47     48     49    50     51    52    53  \n",
              "0        3.0    2.0    8.0  30.0   83.0  14.0   5.0  \n",
              "1        4.0   -1.0  -12.0  -1.0  -17.0  -1.0   1.0  \n",
              "2      -14.0   -7.0   12.0   0.0  -12.0  -1.0  -3.0  \n",
              "3      -14.0   -7.0   12.0   0.0  -12.0  -1.0  -3.0  \n",
              "4       -7.0   -1.0    6.0   5.0   -4.0  13.0  29.0  \n",
              "...      ...    ...    ...   ...    ...   ...   ...  \n",
              "76973    0.0  -24.0   -9.0  -3.0   -6.0  -3.0  -1.0  \n",
              "76974    0.0  -24.0   -9.0  -3.0   -6.0  -3.0  -1.0  \n",
              "76975    0.0   10.0   -5.0   1.0   -3.0   1.0   2.0  \n",
              "76976   -5.0    3.0  -36.0  -7.0   -2.0   1.0  -2.0  \n",
              "76977    0.0    3.0    7.0   0.0   -1.0   3.0   1.0  \n",
              "\n",
              "[76978 rows x 54 columns]"
            ]
          },
          "metadata": {
            "tags": []
          },
          "execution_count": 183
        }
      ]
    },
    {
      "cell_type": "code",
      "metadata": {
        "id": "_lOReEjWjyMk",
        "outputId": "aade71b8-1a2c-489c-dfe6-f07f1454295c"
      },
      "source": [
        "codes, uniques = pd.factorize(X.iloc[:,0])\n",
        "X.iloc[:,0] = codes\n",
        "X"
      ],
      "execution_count": null,
      "outputs": [
        {
          "output_type": "execute_result",
          "data": {
            "text/html": [
              "<div>\n",
              "<style scoped>\n",
              "    .dataframe tbody tr th:only-of-type {\n",
              "        vertical-align: middle;\n",
              "    }\n",
              "\n",
              "    .dataframe tbody tr th {\n",
              "        vertical-align: top;\n",
              "    }\n",
              "\n",
              "    .dataframe thead th {\n",
              "        text-align: right;\n",
              "    }\n",
              "</style>\n",
              "<table border=\"1\" class=\"dataframe\">\n",
              "  <thead>\n",
              "    <tr style=\"text-align: right;\">\n",
              "      <th></th>\n",
              "      <th>0</th>\n",
              "      <th>1</th>\n",
              "      <th>2</th>\n",
              "      <th>3</th>\n",
              "      <th>4</th>\n",
              "      <th>5</th>\n",
              "      <th>6</th>\n",
              "      <th>7</th>\n",
              "      <th>8</th>\n",
              "      <th>9</th>\n",
              "      <th>...</th>\n",
              "      <th>44</th>\n",
              "      <th>45</th>\n",
              "      <th>46</th>\n",
              "      <th>47</th>\n",
              "      <th>48</th>\n",
              "      <th>49</th>\n",
              "      <th>50</th>\n",
              "      <th>51</th>\n",
              "      <th>52</th>\n",
              "      <th>53</th>\n",
              "    </tr>\n",
              "  </thead>\n",
              "  <tbody>\n",
              "    <tr>\n",
              "      <th>0</th>\n",
              "      <td>0</td>\n",
              "      <td>0</td>\n",
              "      <td>0</td>\n",
              "      <td>0.6640629768371582</td>\n",
              "      <td>-0.18505899608135226</td>\n",
              "      <td>0.0</td>\n",
              "      <td>0.0</td>\n",
              "      <td>0.0</td>\n",
              "      <td>152.86585998535156</td>\n",
              "      <td>-43.84146499633789</td>\n",
              "      <td>...</td>\n",
              "      <td>-1.0</td>\n",
              "      <td>1.0</td>\n",
              "      <td>1.0</td>\n",
              "      <td>3.0</td>\n",
              "      <td>2.0</td>\n",
              "      <td>8.0</td>\n",
              "      <td>30.0</td>\n",
              "      <td>83.0</td>\n",
              "      <td>14.0</td>\n",
              "      <td>5.0</td>\n",
              "    </tr>\n",
              "    <tr>\n",
              "      <th>1</th>\n",
              "      <td>0</td>\n",
              "      <td>0</td>\n",
              "      <td>0</td>\n",
              "      <td>0.5893549919128418</td>\n",
              "      <td>-0.31835898756980896</td>\n",
              "      <td>0.0</td>\n",
              "      <td>0.0</td>\n",
              "      <td>0.0</td>\n",
              "      <td>93.10975646972656</td>\n",
              "      <td>-31.646341323852536</td>\n",
              "      <td>...</td>\n",
              "      <td>-43.0</td>\n",
              "      <td>-5.0</td>\n",
              "      <td>4.0</td>\n",
              "      <td>4.0</td>\n",
              "      <td>-1.0</td>\n",
              "      <td>-12.0</td>\n",
              "      <td>-1.0</td>\n",
              "      <td>-17.0</td>\n",
              "      <td>-1.0</td>\n",
              "      <td>1.0</td>\n",
              "    </tr>\n",
              "    <tr>\n",
              "      <th>2</th>\n",
              "      <td>0</td>\n",
              "      <td>0</td>\n",
              "      <td>0</td>\n",
              "      <td>0.7172849774360657</td>\n",
              "      <td>-0.151855006814003</td>\n",
              "      <td>0.0</td>\n",
              "      <td>0.0</td>\n",
              "      <td>0.0</td>\n",
              "      <td>27.92683029174805</td>\n",
              "      <td>-24.207317352294922</td>\n",
              "      <td>...</td>\n",
              "      <td>-1.0</td>\n",
              "      <td>-1.0</td>\n",
              "      <td>-6.0</td>\n",
              "      <td>-14.0</td>\n",
              "      <td>-7.0</td>\n",
              "      <td>12.0</td>\n",
              "      <td>0.0</td>\n",
              "      <td>-12.0</td>\n",
              "      <td>-1.0</td>\n",
              "      <td>-3.0</td>\n",
              "    </tr>\n",
              "    <tr>\n",
              "      <th>3</th>\n",
              "      <td>0</td>\n",
              "      <td>0</td>\n",
              "      <td>0</td>\n",
              "      <td>0.5473629832267761</td>\n",
              "      <td>-0.1289059966802597</td>\n",
              "      <td>0.0</td>\n",
              "      <td>0.0</td>\n",
              "      <td>0.0</td>\n",
              "      <td>11.036585807800293</td>\n",
              "      <td>-19.207317352294922</td>\n",
              "      <td>...</td>\n",
              "      <td>-1.0</td>\n",
              "      <td>-1.0</td>\n",
              "      <td>-6.0</td>\n",
              "      <td>-14.0</td>\n",
              "      <td>-7.0</td>\n",
              "      <td>12.0</td>\n",
              "      <td>0.0</td>\n",
              "      <td>-12.0</td>\n",
              "      <td>-1.0</td>\n",
              "      <td>-3.0</td>\n",
              "    </tr>\n",
              "    <tr>\n",
              "      <th>4</th>\n",
              "      <td>0</td>\n",
              "      <td>0</td>\n",
              "      <td>0</td>\n",
              "      <td>0.6445310115814209</td>\n",
              "      <td>-0.16210900247097015</td>\n",
              "      <td>0.0</td>\n",
              "      <td>0.0</td>\n",
              "      <td>0.0</td>\n",
              "      <td>23.170732498168945</td>\n",
              "      <td>-10.670731544494627</td>\n",
              "      <td>...</td>\n",
              "      <td>6.0</td>\n",
              "      <td>-1.0</td>\n",
              "      <td>-1.0</td>\n",
              "      <td>-7.0</td>\n",
              "      <td>-1.0</td>\n",
              "      <td>6.0</td>\n",
              "      <td>5.0</td>\n",
              "      <td>-4.0</td>\n",
              "      <td>13.0</td>\n",
              "      <td>29.0</td>\n",
              "    </tr>\n",
              "    <tr>\n",
              "      <th>...</th>\n",
              "      <td>...</td>\n",
              "      <td>...</td>\n",
              "      <td>...</td>\n",
              "      <td>...</td>\n",
              "      <td>...</td>\n",
              "      <td>...</td>\n",
              "      <td>...</td>\n",
              "      <td>...</td>\n",
              "      <td>...</td>\n",
              "      <td>...</td>\n",
              "      <td>...</td>\n",
              "      <td>...</td>\n",
              "      <td>...</td>\n",
              "      <td>...</td>\n",
              "      <td>...</td>\n",
              "      <td>...</td>\n",
              "      <td>...</td>\n",
              "      <td>...</td>\n",
              "      <td>...</td>\n",
              "      <td>...</td>\n",
              "      <td>...</td>\n",
              "    </tr>\n",
              "    <tr>\n",
              "      <th>76973</th>\n",
              "      <td>0</td>\n",
              "      <td>12</td>\n",
              "      <td>150</td>\n",
              "      <td>0.2993159890174866</td>\n",
              "      <td>-0.03222699835896492</td>\n",
              "      <td>0.0</td>\n",
              "      <td>0.0</td>\n",
              "      <td>0.0</td>\n",
              "      <td>-88.65853881835938</td>\n",
              "      <td>82.5</td>\n",
              "      <td>...</td>\n",
              "      <td>2.0</td>\n",
              "      <td>2.0</td>\n",
              "      <td>-1.0</td>\n",
              "      <td>0.0</td>\n",
              "      <td>-24.0</td>\n",
              "      <td>-9.0</td>\n",
              "      <td>-3.0</td>\n",
              "      <td>-6.0</td>\n",
              "      <td>-3.0</td>\n",
              "      <td>-1.0</td>\n",
              "    </tr>\n",
              "    <tr>\n",
              "      <th>76974</th>\n",
              "      <td>0</td>\n",
              "      <td>12</td>\n",
              "      <td>150</td>\n",
              "      <td>0.3198240101337433</td>\n",
              "      <td>-0.14111299812793732</td>\n",
              "      <td>0.0</td>\n",
              "      <td>0.0</td>\n",
              "      <td>0.0</td>\n",
              "      <td>-66.5243911743164</td>\n",
              "      <td>84.20732116699219</td>\n",
              "      <td>...</td>\n",
              "      <td>-1.0</td>\n",
              "      <td>0.0</td>\n",
              "      <td>-1.0</td>\n",
              "      <td>0.0</td>\n",
              "      <td>-24.0</td>\n",
              "      <td>-9.0</td>\n",
              "      <td>-3.0</td>\n",
              "      <td>-6.0</td>\n",
              "      <td>-3.0</td>\n",
              "      <td>-1.0</td>\n",
              "    </tr>\n",
              "    <tr>\n",
              "      <th>76975</th>\n",
              "      <td>0</td>\n",
              "      <td>12</td>\n",
              "      <td>150</td>\n",
              "      <td>0.4677729904651642</td>\n",
              "      <td>-0.171875</td>\n",
              "      <td>0.0</td>\n",
              "      <td>0.0</td>\n",
              "      <td>0.0</td>\n",
              "      <td>-63.84146499633789</td>\n",
              "      <td>89.69512176513672</td>\n",
              "      <td>...</td>\n",
              "      <td>0.0</td>\n",
              "      <td>-1.0</td>\n",
              "      <td>0.0</td>\n",
              "      <td>0.0</td>\n",
              "      <td>10.0</td>\n",
              "      <td>-5.0</td>\n",
              "      <td>1.0</td>\n",
              "      <td>-3.0</td>\n",
              "      <td>1.0</td>\n",
              "      <td>2.0</td>\n",
              "    </tr>\n",
              "    <tr>\n",
              "      <th>76976</th>\n",
              "      <td>0</td>\n",
              "      <td>12</td>\n",
              "      <td>150</td>\n",
              "      <td>0.5151370167732239</td>\n",
              "      <td>-0.11816400289535522</td>\n",
              "      <td>0.0</td>\n",
              "      <td>0.0</td>\n",
              "      <td>0.0</td>\n",
              "      <td>-92.19512176513673</td>\n",
              "      <td>92.13414764404298</td>\n",
              "      <td>...</td>\n",
              "      <td>0.0</td>\n",
              "      <td>-1.0</td>\n",
              "      <td>-4.0</td>\n",
              "      <td>-5.0</td>\n",
              "      <td>3.0</td>\n",
              "      <td>-36.0</td>\n",
              "      <td>-7.0</td>\n",
              "      <td>-2.0</td>\n",
              "      <td>1.0</td>\n",
              "      <td>-2.0</td>\n",
              "    </tr>\n",
              "    <tr>\n",
              "      <th>76977</th>\n",
              "      <td>0</td>\n",
              "      <td>12</td>\n",
              "      <td>150</td>\n",
              "      <td>0.4067380130290985</td>\n",
              "      <td>-0.1137700006365776</td>\n",
              "      <td>0.0</td>\n",
              "      <td>0.0</td>\n",
              "      <td>0.0</td>\n",
              "      <td>-109.57317352294922</td>\n",
              "      <td>91.03659057617188</td>\n",
              "      <td>...</td>\n",
              "      <td>0.0</td>\n",
              "      <td>-1.0</td>\n",
              "      <td>0.0</td>\n",
              "      <td>0.0</td>\n",
              "      <td>3.0</td>\n",
              "      <td>7.0</td>\n",
              "      <td>0.0</td>\n",
              "      <td>-1.0</td>\n",
              "      <td>3.0</td>\n",
              "      <td>1.0</td>\n",
              "    </tr>\n",
              "  </tbody>\n",
              "</table>\n",
              "<p>76978 rows × 54 columns</p>\n",
              "</div>"
            ],
            "text/plain": [
              "       0   1    2                   3                     4    5    6    7   \\\n",
              "0       0   0    0  0.6640629768371582  -0.18505899608135226  0.0  0.0  0.0   \n",
              "1       0   0    0  0.5893549919128418  -0.31835898756980896  0.0  0.0  0.0   \n",
              "2       0   0    0  0.7172849774360657    -0.151855006814003  0.0  0.0  0.0   \n",
              "3       0   0    0  0.5473629832267761   -0.1289059966802597  0.0  0.0  0.0   \n",
              "4       0   0    0  0.6445310115814209  -0.16210900247097015  0.0  0.0  0.0   \n",
              "...    ..  ..  ...                 ...                   ...  ...  ...  ...   \n",
              "76973   0  12  150  0.2993159890174866  -0.03222699835896492  0.0  0.0  0.0   \n",
              "76974   0  12  150  0.3198240101337433  -0.14111299812793732  0.0  0.0  0.0   \n",
              "76975   0  12  150  0.4677729904651642             -0.171875  0.0  0.0  0.0   \n",
              "76976   0  12  150  0.5151370167732239  -0.11816400289535522  0.0  0.0  0.0   \n",
              "76977   0  12  150  0.4067380130290985   -0.1137700006365776  0.0  0.0  0.0   \n",
              "\n",
              "                        8                    9   ...     44    45    46  \\\n",
              "0       152.86585998535156   -43.84146499633789  ...   -1.0   1.0   1.0   \n",
              "1        93.10975646972656  -31.646341323852536  ...  -43.0  -5.0   4.0   \n",
              "2        27.92683029174805  -24.207317352294922  ...   -1.0  -1.0  -6.0   \n",
              "3       11.036585807800293  -19.207317352294922  ...   -1.0  -1.0  -6.0   \n",
              "4       23.170732498168945  -10.670731544494627  ...    6.0  -1.0  -1.0   \n",
              "...                    ...                  ...  ...    ...   ...   ...   \n",
              "76973   -88.65853881835938                 82.5  ...    2.0   2.0  -1.0   \n",
              "76974    -66.5243911743164    84.20732116699219  ...   -1.0   0.0  -1.0   \n",
              "76975   -63.84146499633789    89.69512176513672  ...    0.0  -1.0   0.0   \n",
              "76976   -92.19512176513673    92.13414764404298  ...    0.0  -1.0  -4.0   \n",
              "76977  -109.57317352294922    91.03659057617188  ...    0.0  -1.0   0.0   \n",
              "\n",
              "          47     48     49    50     51    52    53  \n",
              "0        3.0    2.0    8.0  30.0   83.0  14.0   5.0  \n",
              "1        4.0   -1.0  -12.0  -1.0  -17.0  -1.0   1.0  \n",
              "2      -14.0   -7.0   12.0   0.0  -12.0  -1.0  -3.0  \n",
              "3      -14.0   -7.0   12.0   0.0  -12.0  -1.0  -3.0  \n",
              "4       -7.0   -1.0    6.0   5.0   -4.0  13.0  29.0  \n",
              "...      ...    ...    ...   ...    ...   ...   ...  \n",
              "76973    0.0  -24.0   -9.0  -3.0   -6.0  -3.0  -1.0  \n",
              "76974    0.0  -24.0   -9.0  -3.0   -6.0  -3.0  -1.0  \n",
              "76975    0.0   10.0   -5.0   1.0   -3.0   1.0   2.0  \n",
              "76976   -5.0    3.0  -36.0  -7.0   -2.0   1.0  -2.0  \n",
              "76977    0.0    3.0    7.0   0.0   -1.0   3.0   1.0  \n",
              "\n",
              "[76978 rows x 54 columns]"
            ]
          },
          "metadata": {
            "tags": []
          },
          "execution_count": 185
        }
      ]
    },
    {
      "cell_type": "code",
      "metadata": {
        "id": "YssJawTrjyMk",
        "outputId": "dc7e4355-1348-4284-f89d-a8a199ec70b4"
      },
      "source": [
        "X.iloc[:,0].value_counts()"
      ],
      "execution_count": null,
      "outputs": [
        {
          "output_type": "execute_result",
          "data": {
            "text/plain": [
              "0    38753\n",
              "1    38225\n",
              "Name: 0, dtype: int64"
            ]
          },
          "metadata": {
            "tags": []
          },
          "execution_count": 188
        }
      ]
    },
    {
      "cell_type": "code",
      "metadata": {
        "id": "IomzGe78jyMk"
      },
      "source": [
        "X.rename(columns={ X.columns[0]: \"label\",X.columns[1]: \"person\",X.columns[2]: \"exercise\"},inplace=True)"
      ],
      "execution_count": null,
      "outputs": []
    },
    {
      "cell_type": "code",
      "metadata": {
        "id": "vruMgrlkjyMl"
      },
      "source": [
        "from sklearn.feature_selection import VarianceThreshold"
      ],
      "execution_count": null,
      "outputs": []
    },
    {
      "cell_type": "code",
      "metadata": {
        "id": "w0LR6LAJjyMl"
      },
      "source": [
        "selector = VarianceThreshold()\n",
        "selector.fit_transform(X)"
      ],
      "execution_count": null,
      "outputs": []
    },
    {
      "cell_type": "code",
      "metadata": {
        "id": "X7j_9idxjyMl"
      },
      "source": [
        "X.shape"
      ],
      "execution_count": null,
      "outputs": []
    },
    {
      "cell_type": "code",
      "metadata": {
        "id": "sB0sEJWdjyMl"
      },
      "source": [
        "X_new = X.copy()\n",
        "X_new = X_new.loc[:,selector.get_support()].copy()"
      ],
      "execution_count": null,
      "outputs": []
    },
    {
      "cell_type": "code",
      "metadata": {
        "id": "RS7tVLGYjyMm"
      },
      "source": [
        "X_new.shape"
      ],
      "execution_count": null,
      "outputs": []
    },
    {
      "cell_type": "code",
      "metadata": {
        "id": "pW--DNELjyMm"
      },
      "source": [
        "X = X_new.copy()\n",
        "X"
      ],
      "execution_count": null,
      "outputs": []
    },
    {
      "cell_type": "code",
      "metadata": {
        "id": "xXfRUG1mjyMm"
      },
      "source": [
        "X.to_csv('challenge/raw_data.csv', sep=';', decimal='.', index=False, header=True)"
      ],
      "execution_count": null,
      "outputs": []
    },
    {
      "cell_type": "code",
      "metadata": {
        "id": "pRbxU47UjyMm"
      },
      "source": [
        "X = pd.read_csv('challenge/task3/raw_data.csv', sep=';', decimal='.', header=0)"
      ],
      "execution_count": null,
      "outputs": []
    },
    {
      "cell_type": "code",
      "metadata": {
        "id": "2_jMOQe2jyMn"
      },
      "source": [
        "from scipy.interpolate import interp1d, CubicSpline\n",
        "\n",
        "def interpolate(X,lenght):\n",
        "    groups = X.groupby([X.label, X.person, X.exercise])\n",
        "    if lenght == None:\n",
        "        lenght = int(groups.size().mode())\n",
        "    ret = []\n",
        "    r, c = lenght, X.shape[1]\n",
        "    for name, g in groups:\n",
        "        comodo = np.zeros((r,c))\n",
        "        comodo[:r,:3] = np.tile(g.iloc[0,:3].values, (r,1))\n",
        "\n",
        "        x = g.index\n",
        "        x_new = np.linspace(np.min(x),np.max(x), lenght)\n",
        "        \n",
        "        for i in range(3,c):\n",
        "            y = g.iloc[:,i]\n",
        "            f = CubicSpline(x,y)\n",
        "\n",
        "            y_new = f(x_new)\n",
        "            comodo[:,i] = y_new\n",
        "\n",
        "        ret.append(comodo)\n",
        "\n",
        "    ret = pd.DataFrame(np.vstack(ret), columns=X.columns)\n",
        "    ret.sort_index(inplace=True)\n",
        "    ret.reset_index(drop=True, inplace=True)\n",
        "    return ret, lenght"
      ],
      "execution_count": null,
      "outputs": []
    },
    {
      "cell_type": "code",
      "metadata": {
        "id": "CurYTsdXjyMn"
      },
      "source": [
        "Xi, dim = interpolate(X, lenght=None)\n",
        "dim"
      ],
      "execution_count": null,
      "outputs": []
    },
    {
      "cell_type": "code",
      "metadata": {
        "id": "ckF_hpUrjyMo"
      },
      "source": [
        "Xi"
      ],
      "execution_count": null,
      "outputs": []
    },
    {
      "cell_type": "code",
      "metadata": {
        "id": "DPjYORJwjyMo"
      },
      "source": [
        "from statsmodels.graphics.tsaplots import acf\n",
        "def extractFeatures(features):\n",
        "    raw_features = features.shape[1]\n",
        "    mean = features.mean().values\n",
        "    var = features.var().values\n",
        "    kurt = features.kurtosis().values\n",
        "    skew = features.skew().values\n",
        "    corr = features.corr().values[np.triu_indices(raw_features,k=1)]\n",
        "    mad = features.mad().values\n",
        "    sem = features.sem().values\n",
        "    arr = features.values\n",
        "    energy = np.sqrt(np.einsum('ij,ij->j',arr,arr))\n",
        "    iqr_ = iqr(arr,axis=0)\n",
        "    mi = features.min().values\n",
        "    ma = features.max().values\n",
        "    slopes = features.apply(lambda x: np.polyfit(features.index, x, 1)[0]).values\n",
        "\n",
        "    frq_info = []\n",
        "    for el in features[features.columns]:\n",
        "        f_ = features[el]\n",
        "        acf_ = np.nan_to_num(acf(f_,nlags=10)[1:])\n",
        "        acf_mean = np.mean(acf_)\n",
        "        acf_std = np.mean(acf_)\n",
        "        \n",
        "        fft = np.fft.fft(f_)\n",
        "        amplitude_spectrum = np.abs(fft)\n",
        "        phase_angle = np.angle(f_)\n",
        "        \n",
        "\n",
        "    frq_info.extend([acf_mean,acf_std,amplitude_spectrum[0].real,phase_angle[0].real,np.max(np.abs(fft[1:])),np.argmax(fft[1:])])\n",
        "    frq_info.extend([pd.DataFrame(fft[1:]).abs().kurtosis().values[0],pd.DataFrame(fft[1:]).abs().skew().values[0], pd.DataFrame(fft[1:]).abs().mean(axis=0).values[0]])\n",
        "  \n",
        "    frq_info = np.asarray(frq_info)\n",
        "    return np.concatenate((mean,var,kurt,skew,corr,mad,sem,energy,iqr_,mi,ma,slopes,frq_info)) \n",
        "\n",
        "def featureEngineering(X):\n",
        "    groups = X.groupby([X.person, X.exercise])\n",
        "    keys = list(groups.groups.keys())\n",
        "\n",
        "    n_groups = groups.ngroups\n",
        "    ret = np.zeros((n_groups,5403))\n",
        "\n",
        "    for i in range(len(keys)):\n",
        "        sys.stdout.write(\"\\r computed {%d/ %d}\" % (i+1, n_groups) )\n",
        "        sys.stdout.flush()\n",
        "        g = groups.get_group(list(keys)[i])\n",
        "\n",
        "        features = g.iloc[:,3:]\n",
        "        labels = g.iloc[0,:3].values\n",
        "\n",
        "        f_per_launch = []\n",
        "        dim_window = round(len(features)/2)\n",
        "        step1 = round(dim_window/2)\n",
        "        \n",
        "        f_computed = extractFeatures(features) \n",
        "        f_per_exp = np.concatenate((labels,f_computed),axis=0)\n",
        "           \n",
        "        for j in range(0,dim_window,step1):\n",
        "            f_computed = extractFeatures(features.iloc[j:j+dim_window,:])\n",
        "            f_per_exp = np.concatenate((f_per_exp,f_computed),axis=0)\n",
        "        \n",
        "        step2 = round(step1/2)\n",
        "        for j in range(0, step1,step2):\n",
        "            f_computed = extractFeatures(features.iloc[j:j+dim_window,:])\n",
        "            f_per_exp = np.concatenate((f_per_exp,f_computed),axis=0)\n",
        "            \n",
        "        f_per_exp = f_per_exp.reshape(1,-1) \n",
        "        ret[i,:] = f_per_exp\n",
        "    print()\n",
        "    return pd.DataFrame(ret)"
      ],
      "execution_count": null,
      "outputs": []
    },
    {
      "cell_type": "code",
      "metadata": {
        "id": "YtjSG3xIjyMo"
      },
      "source": [
        "%%time\n",
        "feat = featureEngineering(Xi) "
      ],
      "execution_count": null,
      "outputs": []
    },
    {
      "cell_type": "code",
      "metadata": {
        "id": "dNFmwG0CjyMp"
      },
      "source": [
        "feat.to_csv('challenge/features.csv', sep=';', decimal='.', index=False, header=True)"
      ],
      "execution_count": null,
      "outputs": []
    },
    {
      "cell_type": "code",
      "metadata": {
        "id": "RbBB8LArjyMp"
      },
      "source": [
        "feat = pd.read_csv('challenge/features.csv', sep=';', decimal='.', header=0)"
      ],
      "execution_count": null,
      "outputs": []
    },
    {
      "cell_type": "code",
      "metadata": {
        "id": "OzcMDdKMjyMp"
      },
      "source": [
        "from sklearn.preprocessing import StandardScaler"
      ],
      "execution_count": null,
      "outputs": []
    },
    {
      "cell_type": "code",
      "metadata": {
        "id": "xDJe-pGyjyMr"
      },
      "source": [
        "feat.head()"
      ],
      "execution_count": null,
      "outputs": []
    },
    {
      "cell_type": "code",
      "metadata": {
        "id": "vI1y-256jyMr"
      },
      "source": [
        "def normByPerson(X):\n",
        "    groups = X.groupby(['person'])\n",
        "    ret = []\n",
        "    for name, g in groups:\n",
        "        s = g.iloc[:,3:]\n",
        "        scaler = preprocessing.StandardScaler()\n",
        "        new_values = g.values\n",
        "        new_values[:,3:] = scaler.fit_transform(s.values)\n",
        "        ret.append(new_values)\n",
        "\n",
        "    ret = pd.DataFrame(np.asarray(np.vstack(ret)))\n",
        "    ret.columns = X.columns  \n",
        "    return ret"
      ],
      "execution_count": null,
      "outputs": []
    },
    {
      "cell_type": "code",
      "metadata": {
        "id": "nA2NMrOGjyMs"
      },
      "source": [
        "feat.rename(columns={ feat.columns[0]: \"label\",feat.columns[1]: \"person\",feat.columns[2]: \"exercise\"},inplace=True)"
      ],
      "execution_count": null,
      "outputs": []
    },
    {
      "cell_type": "code",
      "metadata": {
        "id": "TOQw6SDZjyMs"
      },
      "source": [
        "%%time\n",
        "X_norm = normByPerson(feat.copy()) "
      ],
      "execution_count": null,
      "outputs": []
    },
    {
      "cell_type": "code",
      "metadata": {
        "id": "3XkID4qQjyMs"
      },
      "source": [
        "feat.head()"
      ],
      "execution_count": null,
      "outputs": []
    },
    {
      "cell_type": "code",
      "metadata": {
        "id": "WAn469P7jyMs"
      },
      "source": [
        "X_norm.head()"
      ],
      "execution_count": null,
      "outputs": []
    },
    {
      "cell_type": "code",
      "metadata": {
        "id": "MZSaOkwljyMt"
      },
      "source": [
        "X_norm.to_csv('challenge/X.csv', sep=';', decimal='.', index=False, header=True)"
      ],
      "execution_count": null,
      "outputs": []
    },
    {
      "cell_type": "code",
      "metadata": {
        "id": "7ESMQKQejyMt"
      },
      "source": [
        "X = pd.read_csv('challenge/X.csv', sep=';', decimal='.', header=0)"
      ],
      "execution_count": null,
      "outputs": []
    },
    {
      "cell_type": "code",
      "metadata": {
        "id": "JQ5k2ppwjyMu"
      },
      "source": [
        "def leave_1_out(X):\n",
        "    grouped = X.groupby([X.person])\n",
        "\n",
        "    for i, (name,group) in enumerate(grouped):\n",
        "        test = group.copy()\n",
        "        train = X.drop(test.index)\n",
        "\n",
        "        mi = min(train.label.value_counts())\n",
        "        train = train.groupby(train.label, group_keys=False).apply(lambda x: x.sample(min(len(x), mi)))\n",
        "\n",
        "        yield train.index, test.index"
      ],
      "execution_count": null,
      "outputs": []
    },
    {
      "cell_type": "code",
      "metadata": {
        "id": "aqbek9HVjyMu"
      },
      "source": [
        "from sklearn.pipeline import Pipeline\n",
        "from sklearn.ensemble import RandomForestClassifier\n",
        "from sklearn.preprocessing import MinMaxScaler, StandardScaler\n",
        "from sklearn.model_selection import cross_val_score\n",
        "\n",
        "from sklearn.feature_selection import SelectFromModel, VarianceThreshold\n",
        "from sklearn.model_selection import GridSearchCV\n",
        "\n",
        "from sklearn.metrics import f1_score, matthews_corrcoef, accuracy_score, balanced_accuracy_score\n",
        "from imblearn.pipeline import Pipeline as imbpipeline\n",
        "from imblearn.over_sampling import SMOTE, ADASYN\n",
        "from imblearn.combine import SMOTETomek\n"
      ],
      "execution_count": null,
      "outputs": []
    },
    {
      "cell_type": "code",
      "metadata": {
        "id": "huggs1UhjyMu"
      },
      "source": [
        "cv = leave_1_out(X)\n",
        "rf = RandomForestClassifier(random_state=42,n_estimators=1000)\n",
        "pipeline = Pipeline(steps = [['var_tresh',VarianceThreshold()],\n",
        "                                ['rf', rf]]\n",
        "                       )\n",
        "\n",
        "n_scores = cross_val_score(pipeline, X.iloc[:,3:], X.label, scoring='accuracy', cv=cv, n_jobs=32)\n",
        "# report performance\n",
        "print('Accuracy: %.3f (%.3f)' % (np.mean(n_scores), np.std(n_scores)))"
      ],
      "execution_count": null,
      "outputs": []
    },
    {
      "cell_type": "code",
      "metadata": {
        "id": "1Z83_2QIjyMv"
      },
      "source": [
        "import xgboost as xgb"
      ],
      "execution_count": null,
      "outputs": []
    },
    {
      "cell_type": "code",
      "metadata": {
        "id": "kTwwCWFsjyMw"
      },
      "source": [
        "cv = leave_1_out(X)\n",
        "model = xgb.XGBClassifier(use_label_encoder =False,objective = \"binary:logistic\",eval_metric = \"logloss\")\n",
        "pipeline = Pipeline(steps = [['var_tresh',VarianceThreshold()],\n",
        "                                ['model', model]]\n",
        "                       )\n",
        "\n",
        "n_scores = cross_val_score(pipeline, X.iloc[:,3:], X.label, scoring='accuracy', cv=cv, n_jobs=32)\n",
        "# report performance\n",
        "print('Accuracy: %.3f (%.3f)' % (np.mean(n_scores), np.std(n_scores)))"
      ],
      "execution_count": null,
      "outputs": []
    },
    {
      "cell_type": "code",
      "metadata": {
        "id": "x4p3zsP3jyMw"
      },
      "source": [
        "%%time\n",
        "from imblearn.pipeline import Pipeline as imbpipeline\n",
        "from imblearn.over_sampling import SMOTE, ADASYN\n",
        "from scipy import stats\n",
        "from imblearn.under_sampling import RandomUnderSampler\n",
        "\n",
        "param_grid = {\n",
        "    'model__n_estimators': [80,100,200,500,800,1000,1200,1500],\n",
        "    'model__eta': [0.01, 0.03, 0.05, 0.1, 0.3]\n",
        "}\n",
        "\n",
        "\n",
        "model = xgb.XGBClassifier(random_state=42)\n",
        "\n",
        "pipeline = Pipeline(steps = [['var_tresh',VarianceThreshold()],\n",
        "                                ['model', model]]\n",
        "                       )\n",
        "#rskf = RepeatedStratifiedKFold(n_splits=2, n_repeats=2, random_state=36851234)\n",
        "cv = leave_1_out(X)\n",
        "\n",
        "clf = GridSearchCV(pipeline, param_grid, cv=cv, scoring=('balanced_accuracy'), n_jobs=4,verbose=1)\n",
        "clf.fit(X.iloc[:,3:], X.label)"
      ],
      "execution_count": null,
      "outputs": []
    },
    {
      "cell_type": "code",
      "metadata": {
        "id": "BM25ZPBfjyMw",
        "outputId": "bc00d558-adca-4e45-aab6-ea735b60515b"
      },
      "source": [
        "cv = leave_1_out(X)\n",
        "model = xgb.XGBClassifier(use_label_encoder =False,objective = \"binary:logistic\",eval_metric = \"logloss\",\n",
        "                          n_estimators=80)\n",
        "pipeline = Pipeline(steps = [['var_tresh',VarianceThreshold()],\n",
        "                                ['model', model]]\n",
        "                       )\n",
        "\n",
        "n_scores = cross_val_score(pipeline, X.iloc[:,3:], X.label, scoring='accuracy', cv=cv, n_jobs=32)\n",
        "# report performance\n",
        "print('Accuracy: %.3f (%.3f)' % (np.mean(n_scores), np.std(n_scores)))"
      ],
      "execution_count": null,
      "outputs": [
        {
          "output_type": "stream",
          "text": [
            "Accuracy: 0.722 (0.116)\n"
          ],
          "name": "stdout"
        }
      ]
    },
    {
      "cell_type": "code",
      "metadata": {
        "id": "YMUqyuKfjyMx"
      },
      "source": [
        "%%time\n",
        "from imblearn.pipeline import Pipeline as imbpipeline\n",
        "from imblearn.over_sampling import SMOTE, ADASYN\n",
        "from scipy import stats\n",
        "from imblearn.under_sampling import RandomUnderSampler\n",
        "\n",
        "param_grid = {\n",
        "    'model__max_depth': range(3,10,2),\n",
        "}\n",
        "\n",
        "model = xgb.XGBClassifier(random_state=42,n_estimators=80)\n",
        "\n",
        "pipeline = Pipeline(steps = [['var_tresh',VarianceThreshold()],\n",
        "                                ['model', model]]\n",
        "                       )\n",
        "cv = leave_1_out(X)\n",
        "\n",
        "clf = GridSearchCV(pipeline, param_grid, cv=cv, scoring=('accuracy'), n_jobs=4,verbose=1)\n",
        "clf.fit(X.iloc[:,3:], X.label)"
      ],
      "execution_count": null,
      "outputs": []
    },
    {
      "cell_type": "code",
      "metadata": {
        "id": "g-kOR-cfjyMx"
      },
      "source": [
        "clf.best_params_"
      ],
      "execution_count": null,
      "outputs": []
    },
    {
      "cell_type": "code",
      "metadata": {
        "id": "P5qHGPqjjyMx"
      },
      "source": [
        "cv = leave_1_out(X)\n",
        "model = xgb.XGBClassifier(use_label_encoder =False,objective = \"binary:logistic\",eval_metric = \"logloss\",\n",
        "                          n_estimators=80,max_depth=3,random_state=42)\n",
        "pipeline = Pipeline(steps = [['var_tresh',VarianceThreshold()],\n",
        "                                ['model', model]]\n",
        "                       )\n",
        "\n",
        "n_scores = cross_val_score(pipeline, X.iloc[:,3:], X.label, scoring='accuracy', cv=cv, n_jobs=32)\n",
        "# report performance\n",
        "print('Accuracy: %.3f (%.3f)' % (np.mean(n_scores), np.std(n_scores)))"
      ],
      "execution_count": null,
      "outputs": []
    },
    {
      "cell_type": "code",
      "metadata": {
        "id": "IEQ_DfUKjyMx"
      },
      "source": [
        "%%time\n",
        "from imblearn.pipeline import Pipeline as imbpipeline\n",
        "from imblearn.over_sampling import SMOTE, ADASYN\n",
        "from scipy import stats\n",
        "from imblearn.under_sampling import RandomUnderSampler\n",
        "\n",
        "param_grid = {\n",
        "    'model__gamma': [0,0.1,0.2,0.3,0.4,3,5],\n",
        "}\n",
        "\n",
        "\n",
        "model = xgb.XGBClassifier(n_estimators=80,max_depth=3)\n",
        "\n",
        "pipeline = Pipeline(steps = [['var_tresh',VarianceThreshold()],\n",
        "                                ['model', model]]\n",
        "                       )\n",
        "#rskf = RepeatedStratifiedKFold(n_splits=2, n_repeats=2, random_state=36851234)\n",
        "cv = leave_1_out(X)\n",
        "\n",
        "clf = GridSearchCV(pipeline, param_grid, cv=cv, scoring=('accuracy'), n_jobs=4,verbose=1)\n",
        "clf.fit(X.iloc[:,3:], X.label)"
      ],
      "execution_count": null,
      "outputs": []
    },
    {
      "cell_type": "code",
      "metadata": {
        "id": "iZwgoN4yjyMy"
      },
      "source": [
        "clf.best_params_"
      ],
      "execution_count": null,
      "outputs": []
    },
    {
      "cell_type": "code",
      "metadata": {
        "id": "yE4z1n1sjyMy"
      },
      "source": [
        "cv = leave_1_out(X)\n",
        "model = xgb.XGBClassifier(use_label_encoder =False,objective = \"binary:logistic\",eval_metric = \"logloss\",\n",
        "                          n_estimators=80,max_depth=3,gamma=0.1)\n",
        "pipeline = Pipeline(steps = [['var_tresh',VarianceThreshold()],\n",
        "                                ['model', model]]\n",
        "                       )\n",
        "\n",
        "n_scores = cross_val_score(pipeline, X.iloc[:,3:], X.label, scoring='accuracy', cv=cv, n_jobs=32)\n",
        "# report performance\n",
        "print('Accuracy: %.3f (%.3f)' % (np.mean(n_scores), np.std(n_scores)))"
      ],
      "execution_count": null,
      "outputs": []
    },
    {
      "cell_type": "code",
      "metadata": {
        "id": "jYTPS5X9jyMz"
      },
      "source": [
        "from sklearn.preprocessing import Normalizer"
      ],
      "execution_count": null,
      "outputs": []
    },
    {
      "cell_type": "code",
      "metadata": {
        "id": "DGOSMUCejyM0"
      },
      "source": [
        "cv = leave_1_out(X)\n",
        "model = xgb.XGBClassifier(use_label_encoder =False,objective = \"binary:logistic\",eval_metric = \"logloss\")\n",
        "pipeline = Pipeline(steps = [['var_tresh',VarianceThreshold()],\n",
        "                             ['norm',Normalizer(norm='max')],\n",
        "                                ['model', model]]\n",
        "                       )\n",
        "\n",
        "n_scores = cross_val_score(pipeline, X.iloc[:,3:], X.label, scoring='accuracy', cv=cv, n_jobs=32)\n",
        "# report performance\n",
        "print('Accuracy: %.3f (%.3f)' % (np.mean(n_scores), np.std(n_scores)))"
      ],
      "execution_count": null,
      "outputs": []
    },
    {
      "cell_type": "code",
      "metadata": {
        "id": "LDCK6TorjyM0"
      },
      "source": [
        ""
      ],
      "execution_count": null,
      "outputs": []
    },
    {
      "cell_type": "code",
      "metadata": {
        "id": "DGczXSDEnefq"
      },
      "source": [
        ""
      ],
      "execution_count": null,
      "outputs": []
    },
    {
      "cell_type": "code",
      "metadata": {
        "id": "z3kCq97HnenL"
      },
      "source": [
        "def train(X, algorithm='xgboost'):\n",
        "    if algorithm=='RF':\n",
        "      n_features = X.iloc[:,3:].shape[1]\n",
        "      sqrt1_3 = round(pow(n_features,1/3))\n",
        "      sqrt3_4 = round(pow(n_features,2/3))\n",
        "      params = ['auto',sqrt1_3,sqrt3_4]\n",
        "\n",
        "      param_grid = {\n",
        "          'model__max_features':params\n",
        "          'model__min_samples_leaf':[1,3,5]\n",
        "      }\n",
        "      model = RandomForestClassifier(n_estimators=1000)\n",
        "\n",
        "      pipeline = Pipeline(steps = [['var_tresh',VarianceThreshold()],\n",
        "                                    ['model', model]]\n",
        "                                   )\n",
        "\n",
        "    elif algorithm=='xgboost':\n",
        "      param_grid = {\n",
        "      'model__eta': np.arange(0.01, 0.07, 0.01),\n",
        "      'model__max_depth': [3,5,7,9],\n",
        "      'model__gamma': [0,0.1,0.2],\n",
        "      'model__subsample':[0.6,0.8,1],\n",
        "      'model__colsample_bytree': [0.5,0.8,1]\n",
        "      }\n",
        "\n",
        "      model = xgb.XGBClassifier(use_label_encoder =False,objective = \"binary:logistic\",eval_metric = \"logloss\",n_estimators=1200) \n",
        "      pipeline = Pipeline(steps = [['var_tresh',VarianceThreshold()],\n",
        "                                    ['norm',Normalizer(norm='max')],\n",
        "                                    ['model', model]]\n",
        "                                   )\n",
        "    else:\n",
        "      print('algorithm not valid')\n",
        "    \n",
        "    \n",
        "    media_tot = np.zeros((10))\n",
        "    media_f1 = np.zeros((10,2))\n",
        "    media_mc = np.zeros((10))\n",
        "    \n",
        "    \n",
        "    for mc in range(100):\n",
        "        cv = leave_1_out(X)\n",
        "        for i, (train_idx, test_idx) in enumerate(cv):\n",
        "            X_train = X.iloc[train_idx]\n",
        "            X_test = X.iloc[test_idx]\n",
        "            \n",
        "            X_train.reset_index(inplace=True,drop=True)\n",
        "            cv_Val = leave_1_out(X_train)\n",
        "            \n",
        "            \n",
        "            clf = GridSearchCV(pipeline, param_grid, cv=cv_Val, scoring=('accuracy'), n_jobs=32)\n",
        "            clf.fit(X_train.iloc[:,3:], X_train.label)\n",
        "            \n",
        "            \n",
        "            y_pred = clf.best_estimator_.predict(X_test.iloc[:,3:])\n",
        "            current_acc = accuracy_score(X_test.label, y_pred)\n",
        "            media_tot[mc] += current_acc\n",
        "            \n",
        "            f10, f11 = f1_score(X_test.label, y_pred,average=None)\n",
        "            media_f1[mc,0] += f10\n",
        "            media_f1[mc,1] += f11\n",
        "            media_mc[mc] += matthews_corrcoef(X_test.label, y_pred)\n",
        "                                   \n",
        "            print(mc, i, current_acc)\n",
        "            print(media_tot[mc]/(i+1), media_f1[mc,0]/(i+1), media_f1[mc,1]/(i+1),media_mc[mc]/(i+1))\n",
        "            print()\n",
        "   \n",
        "    print(np.mean(media_tot), np.mean(media_f1,axis=0), np.mean(media_mc))"
      ],
      "execution_count": null,
      "outputs": []
    },
    {
      "cell_type": "code",
      "metadata": {
        "id": "8HU4cfsOohoQ"
      },
      "source": [
        "X = pd.read_csv('challenge/X.csv', sep=';', decimal='.', header=0)\n",
        "train(X)"
      ],
      "execution_count": null,
      "outputs": []
    }
  ]
}
